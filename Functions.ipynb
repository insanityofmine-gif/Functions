{
  "cells": [
    {
      "cell_type": "markdown",
      "metadata": {
        "id": "mGqoXYCqmEi4"
      },
      "source": [
        "1. What is the difference between a function and a method in Python?\n",
        "    - function is a block of code which perform some specific task/computation. functions are reusable and it makes your code neat, clean and organizes.\n",
        "    - A method is also a function, but it is associated with an object/class.\n",
        "  Methods are defined inside a class and take the instance (self) or class (cls) as their first parameter. method is called on an object (instance of a class)."
      ]
    },
    {
      "cell_type": "code",
      "execution_count": null,
      "metadata": {
        "colab": {
          "base_uri": "https://localhost:8080/"
        },
        "id": "9ddP-Q7gmn2d",
        "outputId": "71016ca1-efe9-4334-c442-1772788e522d"
      },
      "outputs": [
        {
          "name": "stdout",
          "output_type": "stream",
          "text": [
            "Hello, Anjul!\n"
          ]
        }
      ],
      "source": [
        "# Example : function\n",
        "def greet(name):\n",
        "    return f\"Hello, {name}!\"\n",
        "\n",
        "print(greet(\"Anjul\"))   # Function call"
      ]
    },
    {
      "cell_type": "code",
      "execution_count": null,
      "metadata": {
        "colab": {
          "base_uri": "https://localhost:8080/"
        },
        "id": "_5L0shp4nqOA",
        "outputId": "103f0284-4322-4790-80ae-6ce75ed3eb14"
      },
      "outputs": [
        {
          "name": "stdout",
          "output_type": "stream",
          "text": [
            "Hello, my name is Anjul\n"
          ]
        }
      ],
      "source": [
        "# Example : method\n",
        "class Student:\n",
        "    def __init__(self, name):\n",
        "        self.name = name\n",
        "\n",
        "    def say_hello(self):\n",
        "        print(\"Hello, my name is\", self.name)\n",
        "\n",
        "s1 = Student(\"Anjul\")\n",
        "s1.say_hello()"
      ]
    },
    {
      "cell_type": "markdown",
      "metadata": {
        "id": "JmTxZWTnowlQ"
      },
      "source": [
        "2.  Explain the concept of function arguments and parameters in Python.\n",
        "    - Parameters are the variables listed inside the parentheses in the function's definition. They act as placeholders for the values that the function expects to receive when it is called.\n",
        "    - Arguments are the actual values passed to the function when it is called. These values are assigned to the corresponding parameters within the function's scope during execution."
      ]
    },
    {
      "cell_type": "code",
      "execution_count": null,
      "metadata": {
        "colab": {
          "base_uri": "https://localhost:8080/"
        },
        "id": "FZ9GoxNVrk9b",
        "outputId": "e4f1437c-b8b2-493d-b0e2-f5891af21afc"
      },
      "outputs": [
        {
          "name": "stdout",
          "output_type": "stream",
          "text": [
            "Hello, Anjul\n"
          ]
        }
      ],
      "source": [
        "# Example :\n",
        "def greet(name):   # 'name' is a parameter\n",
        "    print(\"Hello,\", name)\n",
        "greet(\"Anjul\")  # 'Anjul' is an argument"
      ]
    },
    {
      "cell_type": "markdown",
      "metadata": {
        "id": "1E3u7WuAsHHW"
      },
      "source": [
        "3. What are the different ways to define and call a function in Python?\n",
        "    - There are many ways to define and call a function."
      ]
    },
    {
      "cell_type": "code",
      "execution_count": null,
      "metadata": {
        "colab": {
          "base_uri": "https://localhost:8080/"
        },
        "id": "I8966Jrxuju-",
        "outputId": "40b63343-9fa5-41cd-81f8-44fc0942157e"
      },
      "outputs": [
        {
          "name": "stdout",
          "output_type": "stream",
          "text": [
            "Hello!\n"
          ]
        }
      ],
      "source": [
        "# Simple function definition and calling\n",
        "def greet():\n",
        "  print(\"Hello!\")\n",
        "greet() # Calling the function"
      ]
    },
    {
      "cell_type": "code",
      "execution_count": null,
      "metadata": {
        "colab": {
          "base_uri": "https://localhost:8080/"
        },
        "id": "uWLTRi9GvEwv",
        "outputId": "1adbadd0-091f-4d11-b828-4707b7278c1b"
      },
      "outputs": [
        {
          "name": "stdout",
          "output_type": "stream",
          "text": [
            "Hello, Alice!\n"
          ]
        }
      ],
      "source": [
        "# 2. Function with Parameters and Arguments.\n",
        "def greet_name(name):\n",
        "    print(f\"Hello, {name}!\")\n",
        "greet_name(\"Alice\") # Calling with an argument"
      ]
    },
    {
      "cell_type": "code",
      "execution_count": null,
      "metadata": {
        "colab": {
          "base_uri": "https://localhost:8080/"
        },
        "id": "Qg8GJ-Z0vEn2",
        "outputId": "77976fae-140a-4b87-8c5e-02f54ff55a91"
      },
      "outputs": [
        {
          "name": "stdout",
          "output_type": "stream",
          "text": [
            "8\n"
          ]
        }
      ],
      "source": [
        "# 3. Function with Return Value.\n",
        "def add_numbers(a, b):\n",
        "    return a + b\n",
        "result = add_numbers(5, 3)\n",
        "print(result)"
      ]
    },
    {
      "cell_type": "code",
      "execution_count": null,
      "metadata": {
        "colab": {
          "base_uri": "https://localhost:8080/"
        },
        "id": "TVCDnQMkvEed",
        "outputId": "0877f452-c4aa-4271-d529-ba25a93779bb"
      },
      "outputs": [
        {
          "name": "stdout",
          "output_type": "stream",
          "text": [
            "16\n"
          ]
        }
      ],
      "source": [
        "# 4. Lambda Functions (For small, single-expression functions)\n",
        "square = lambda x: x ** 2\n",
        "print(square(4))"
      ]
    },
    {
      "cell_type": "code",
      "execution_count": null,
      "metadata": {
        "colab": {
          "base_uri": "https://localhost:8080/"
        },
        "id": "NPLMg40MvERM",
        "outputId": "00fef47e-55e0-47e6-bf03-3a3187d50cfc"
      },
      "outputs": [
        {
          "name": "stdout",
          "output_type": "stream",
          "text": [
            "7\n"
          ]
        }
      ],
      "source": [
        "# 5. Calling Functions Through Objects (Methods).\n",
        "class Math:\n",
        "    def add(self, a, b):\n",
        "        return a + b\n",
        "math_obj = Math()\n",
        "print(math_obj.add(3, 4))"
      ]
    },
    {
      "cell_type": "markdown",
      "metadata": {
        "id": "eUw38rD9xDjQ"
      },
      "source": [
        "4. What is the purpose of the `return` statement in a Python function?\n",
        "    - The return statement is used in a function to send a value back to the place where the function was called."
      ]
    },
    {
      "cell_type": "code",
      "execution_count": null,
      "metadata": {
        "colab": {
          "base_uri": "https://localhost:8080/"
        },
        "id": "_2HPkcbDxkN0",
        "outputId": "aeb0dcaa-711d-45f3-af1d-c554b3f73acd"
      },
      "outputs": [
        {
          "name": "stdout",
          "output_type": "stream",
          "text": [
            "8\n"
          ]
        }
      ],
      "source": [
        "# Example:\n",
        "def add_numbers(a, b):\n",
        "    return a + b\n",
        "result = add_numbers(5, 3)\n",
        "print(result)"
      ]
    },
    {
      "cell_type": "markdown",
      "metadata": {
        "id": "tDqRZiX_ycVy"
      },
      "source": [
        "5. What are iterators in Python and how do they differ from iterables?\n",
        "    - An iterable is any python object or sequential structure or data sturcture that is capable of return it's member at a time, permitting it to iterated over in a for loop.\n",
        "    Example : List, Tuples"
      ]
    },
    {
      "cell_type": "code",
      "execution_count": null,
      "metadata": {
        "colab": {
          "base_uri": "https://localhost:8080/"
        },
        "id": "SC_UfZ4e3zHW",
        "outputId": "a517ed31-9c01-4901-f6ed-aa327bf82826"
      },
      "outputs": [
        {
          "name": "stdout",
          "output_type": "stream",
          "text": [
            "1\n",
            "2\n",
            "Ajay\n"
          ]
        }
      ],
      "source": [
        "list = [1,2,\"Ajay\"] # list is an iterable object.\n",
        "for i in list:\n",
        "    print(i)"
      ]
    },
    {
      "cell_type": "markdown",
      "source": [
        "6.  Explain the concept of generators in Python and how they are defined.\n",
        "    - A generator in Python is a special type of function that returns values one at a time using the yield keyword instead of returning everything at once with return.\n",
        "    - Iterator behavior – can be used in loops (for loop, next() function).\n",
        "    \n",
        "    Example :"
      ],
      "metadata": {
        "id": "0PEjoTd8JWEV"
      }
    },
    {
      "cell_type": "code",
      "source": [
        "def squares(n):\n",
        "    for i in range(1, n+1):\n",
        "        yield i * i  # using yield keyword returning values one at a time.\n",
        "\n",
        "# Using generator\n",
        "for val in squares(5):\n",
        "    print(val)"
      ],
      "metadata": {
        "colab": {
          "base_uri": "https://localhost:8080/"
        },
        "id": "_ww71xSRKBUj",
        "outputId": "83c5d55b-77b4-42eb-96da-19bfe537e63a"
      },
      "execution_count": 15,
      "outputs": [
        {
          "output_type": "stream",
          "name": "stdout",
          "text": [
            "1\n",
            "4\n",
            "9\n",
            "16\n",
            "25\n"
          ]
        }
      ]
    },
    {
      "cell_type": "markdown",
      "source": [
        "7. What are the advantages of using generators over regular functions?\n",
        "    - Generators (functions with yield) are very useful compared to normal functions that use return. The main advantage of using this, it's memory efficient and produces items one by one only when needed while a normal function that returns a list will create the whole list in memory.\n",
        "\n",
        "    Example :"
      ],
      "metadata": {
        "id": "bRIaz9dkK_Eu"
      }
    },
    {
      "cell_type": "code",
      "source": [
        "# Normal function: returns a complete list\n",
        "def get_numbers_list(n):\n",
        "    return [i for i in range(n)]\n",
        "\n",
        "# Generator: yields one number at a time\n",
        "def get_numbers_gen(n):\n",
        "    for i in range(n):\n",
        "        yield i\n",
        "\n",
        "n = 1_000_000\n",
        "print(\"Normal Function:\", get_numbers_list(10))\n",
        "print(\"Generator:\", list(get_numbers_gen(10)))\n",
        "\n"
      ],
      "metadata": {
        "colab": {
          "base_uri": "https://localhost:8080/"
        },
        "id": "ftC8KJbxOiu4",
        "outputId": "e3baeb21-9bbe-4b6b-dbb2-342094296dbb"
      },
      "execution_count": 23,
      "outputs": [
        {
          "output_type": "stream",
          "name": "stdout",
          "text": [
            "Normal Function: [0, 1, 2, 3, 4, 5, 6, 7, 8, 9]\n",
            "Generator: [0, 1, 2, 3, 4, 5, 6, 7, 8, 9]\n"
          ]
        }
      ]
    },
    {
      "cell_type": "markdown",
      "source": [
        "8. What is a lambda function in Python and when is it typically used?\n",
        "    - A lambda function is a small anonymous function (a function without a name). It is defined using the keyword lambda.\n",
        "    - Syntax: lambda arguments: expression\n",
        "    - It can have any number of arguments but only one expression.\n",
        "    - The result of the expression is automatically returned.\n",
        "\n",
        "    Example :"
      ],
      "metadata": {
        "id": "MumeZeylQHrv"
      }
    },
    {
      "cell_type": "code",
      "source": [
        "# Normal function\n",
        "def add(x, y):\n",
        "    return x + y\n",
        "\n",
        "# Lambda function\n",
        "add_lambda = lambda x, y: x + y\n",
        "\n",
        "print(add(2, 3))\n",
        "print(add_lambda(2, 3))"
      ],
      "metadata": {
        "colab": {
          "base_uri": "https://localhost:8080/"
        },
        "id": "u0a-OiqhRU83",
        "outputId": "dfc59189-71bb-4fde-eb94-df2b9ba78d52"
      },
      "execution_count": 24,
      "outputs": [
        {
          "output_type": "stream",
          "name": "stdout",
          "text": [
            "5\n",
            "5\n"
          ]
        }
      ]
    },
    {
      "cell_type": "markdown",
      "source": [
        "9.  Explain the purpose and usage of the `map()` function in Python.\n",
        "      - The map() function is used to apply a function to each item in an iterable (like a list, tuple, or string).\n",
        "      - It returns a map object (an iterator), which can be converted into a list, tuple, etc.\n"
      ],
      "metadata": {
        "id": "QJrxl3kSRmFd"
      }
    },
    {
      "cell_type": "code",
      "source": [
        "# Example :\n",
        "def square(x):\n",
        "    return x * x\n",
        "\n",
        "nums = [1, 2, 3, 4, 5]\n",
        "\n",
        "result = map(square, nums)  # Apply square() to each element\n",
        "print(list(result))  # [1, 4, 9, 16, 25]"
      ],
      "metadata": {
        "colab": {
          "base_uri": "https://localhost:8080/"
        },
        "id": "g-DWdxNXSYAB",
        "outputId": "9855cec7-3d15-4f30-de2a-ccb4ad319512"
      },
      "execution_count": 25,
      "outputs": [
        {
          "output_type": "stream",
          "name": "stdout",
          "text": [
            "[1, 4, 9, 16, 25]\n"
          ]
        }
      ]
    },
    {
      "cell_type": "markdown",
      "source": [
        "10. What is the difference between `map()`, `reduce()`, and `filter()` functions in Python?\n",
        "    - map() : function is used to apply a function to each item in an iterable (like a list, tuple, or string).\n",
        "    - filter() : The filter() function is used to extract elements from an iterable (like a list, tuple or set) that satisfy a given condition.\n",
        "    - reduce() : The reduce() function in Python applies a given function cumulatively to all items in an iterable, reducing it to a single final value."
      ],
      "metadata": {
        "id": "rcUU0lN1Sr-9"
      }
    },
    {
      "cell_type": "code",
      "source": [
        "#map()\n",
        "nums = [1, 2, 3, 4, 5]\n",
        "squares = list(map(lambda x: x**2, nums))\n",
        "print(squares)  # [1, 4, 9, 16, 25]\n",
        "\n",
        "#filter()\n",
        "nums = [1, 2, 3, 4, 5]\n",
        "evens = list(filter(lambda x: x % 2 == 0, nums))\n",
        "print(evens)  # [2, 4]\n",
        "\n",
        "#reduce()\n",
        "from functools import reduce\n",
        "\n",
        "nums = [1, 2, 3, 4, 5]\n",
        "product = reduce(lambda x, y: x * y, nums)\n",
        "print(product)  # 120"
      ],
      "metadata": {
        "colab": {
          "base_uri": "https://localhost:8080/"
        },
        "id": "I680Hj4WUc6L",
        "outputId": "fa993d04-ced1-4c6f-dad4-4400b9be63e1"
      },
      "execution_count": 27,
      "outputs": [
        {
          "output_type": "stream",
          "name": "stdout",
          "text": [
            "[1, 4, 9, 16, 25]\n",
            "[2, 4]\n",
            "120\n"
          ]
        }
      ]
    },
    {
      "cell_type": "markdown",
      "source": [
        "11. Using pen & Paper write the internal mechanism for sum operation using  reduce function on this given\n",
        "list:[47,11,42,13]; ![Reducejpeg.jpeg](data:image/jpeg;base64,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)"
      ],
      "metadata": {
        "id": "-dvuSu4gVaiv"
      }
    },
    {
      "cell_type": "code",
      "execution_count": null,
      "metadata": {
        "colab": {
          "base_uri": "https://localhost:8080/"
        },
        "id": "Z23Oh_0H3YEY",
        "outputId": "1a2d3c25-a405-4891-f8de-2ce6c1cb3ade"
      },
      "outputs": [
        {
          "name": "stdout",
          "output_type": "stream",
          "text": [
            "12\n"
          ]
        }
      ],
      "source": [
        "#1. Write a Python function that takes a list of numbers as input and returns the sum of all even numbers inthe list.\n",
        "def sum_even_numbers(numbers):\n",
        "    sum = 0\n",
        "    for num in numbers:\n",
        "        if num % 2 == 0:   # check if number is even\n",
        "            sum += num\n",
        "    return sum\n",
        "my_list = [1,2,3,4,5,6,7]\n",
        "print(sum_even_numbers(my_list))"
      ]
    },
    {
      "cell_type": "code",
      "execution_count": null,
      "metadata": {
        "colab": {
          "base_uri": "https://localhost:8080/"
        },
        "id": "pGkeDL0V9rN7",
        "outputId": "db61e362-bf35-4b6c-b187-aea2659a6a89"
      },
      "outputs": [
        {
          "name": "stdout",
          "output_type": "stream",
          "text": [
            "olleH\n"
          ]
        }
      ],
      "source": [
        "#2. Create a Python function that accepts a string and returns the reverse of that string.\n",
        "def reverse_string(string):\n",
        "    return string[::-1]\n",
        "my_string = \"Hello\"\n",
        "print(reverse_string(my_string))"
      ]
    },
    {
      "cell_type": "code",
      "execution_count": 4,
      "metadata": {
        "colab": {
          "base_uri": "https://localhost:8080/"
        },
        "id": "ksO1OaL993Xy",
        "outputId": "9ce5b5b3-99c2-4f9f-b528-ad04a9f93bd5"
      },
      "outputs": [
        {
          "output_type": "stream",
          "name": "stdout",
          "text": [
            "[1, 4, 9, 16, 25]\n"
          ]
        }
      ],
      "source": [
        "#3.  Implement a Python function that takes a list of integers and returns a new list containing the squares of each number.\n",
        "def square_numbers(numbers):\n",
        "    squares = [num ** 2 for num in numbers]\n",
        "    return squares\n",
        "my_list = [1, 2, 3, 4, 5]\n",
        "print(square_numbers(my_list))"
      ]
    },
    {
      "cell_type": "code",
      "execution_count": null,
      "metadata": {
        "colab": {
          "base_uri": "https://localhost:8080/"
        },
        "collapsed": true,
        "id": "QNy3JFnw_1TH",
        "outputId": "0ae978f9-41ce-4e42-bce0-72fd47923844"
      },
      "outputs": [
        {
          "name": "stdout",
          "output_type": "stream",
          "text": [
            "2 is Prime\n",
            "3 is Prime\n",
            "5 is Prime\n",
            "7 is Prime\n",
            "11 is Prime\n",
            "13 is Prime\n",
            "17 is Prime\n",
            "19 is Prime\n",
            "23 is Prime\n",
            "29 is Prime\n",
            "31 is Prime\n",
            "37 is Prime\n",
            "41 is Prime\n",
            "43 is Prime\n",
            "47 is Prime\n",
            "53 is Prime\n",
            "59 is Prime\n",
            "61 is Prime\n",
            "67 is Prime\n",
            "71 is Prime\n",
            "73 is Prime\n",
            "79 is Prime\n",
            "83 is Prime\n",
            "89 is Prime\n",
            "97 is Prime\n",
            "101 is Prime\n",
            "103 is Prime\n",
            "107 is Prime\n",
            "109 is Prime\n",
            "113 is Prime\n",
            "127 is Prime\n",
            "131 is Prime\n",
            "137 is Prime\n",
            "139 is Prime\n",
            "149 is Prime\n",
            "151 is Prime\n",
            "157 is Prime\n",
            "163 is Prime\n",
            "167 is Prime\n",
            "173 is Prime\n",
            "179 is Prime\n",
            "181 is Prime\n",
            "191 is Prime\n",
            "193 is Prime\n",
            "197 is Prime\n",
            "199 is Prime\n"
          ]
        }
      ],
      "source": [
        "#4. Write a Python function that checks if a given number is prime or not from 1 to 200.\n",
        "def prime_number(num):\n",
        "  if num < 2 :\n",
        "    return False\n",
        "  for i in range(2,num):\n",
        "    if num % i == 0:\n",
        "      return False\n",
        "  return True\n",
        "\n",
        "# print all prime number from 1 to 200\n",
        "for n in range(1, 201):\n",
        "  if prime_number(n):\n",
        "    print(n,\"is Prime Number\")\n",
        "\n",
        "\n"
      ]
    },
    {
      "cell_type": "code",
      "execution_count": 6,
      "metadata": {
        "colab": {
          "base_uri": "https://localhost:8080/"
        },
        "id": "sA-T4repD09D",
        "outputId": "89fbba7a-da1c-4cb2-ab5a-9459e5a8f7f5"
      },
      "outputs": [
        {
          "output_type": "stream",
          "name": "stdout",
          "text": [
            "0 1 1 2 3 5 8 13 21 34 "
          ]
        }
      ],
      "source": [
        "#5. Create an iterator class in Python that generates the Fibonacci sequence up to a specified number of terms.\n",
        "class Fibonacci:\n",
        "    def __init__(self, limit):\n",
        "        self.limit = limit\n",
        "        self.a = 0\n",
        "        self.b = 1\n",
        "        self.count = 0\n",
        "\n",
        "    def __iter__(self):\n",
        "        return self\n",
        "\n",
        "    def __next__(self):\n",
        "        if self.count >= self.limit:   # stop when count reaches limit\n",
        "            raise StopIteration\n",
        "        result = self.a\n",
        "        self.a, self.b = self.b, self.a + self.b\n",
        "        self.count += 1\n",
        "        return result\n",
        "\n",
        "\n",
        "My_fibonacci = Fibonacci(10)\n",
        "for num in My_fibonacci:\n",
        "    print(num, end=' ')\n"
      ]
    },
    {
      "cell_type": "code",
      "source": [
        "# 6. Write a generator function in Python that yields the powers of 2 up to a given exponent.\n",
        "def powers_of_two(n):\n",
        "    for i in range(n + 1):   # include n\n",
        "        yield 2 ** i\n",
        "\n",
        "# Example usage\n",
        "for value in powers_of_two(5):\n",
        "    print(value)\n",
        "\n"
      ],
      "metadata": {
        "id": "4RxuxjPY6ef1",
        "colab": {
          "base_uri": "https://localhost:8080/"
        },
        "outputId": "9241fce5-bc19-4e8a-ad6e-cb97a0d99912"
      },
      "execution_count": 1,
      "outputs": [
        {
          "output_type": "stream",
          "name": "stdout",
          "text": [
            "1\n",
            "2\n",
            "4\n",
            "8\n",
            "16\n",
            "32\n"
          ]
        }
      ]
    },
    {
      "cell_type": "code",
      "source": [
        "# 7.  Implement a generator function that reads a file line by line and yields each line as a string.\n",
        "\n",
        "def read_file_line_by_line(filename):\n",
        "    with open(filename, 'r') as f:\n",
        "        for line in f:\n",
        "            yield line.strip() # Yield each line, removing leading/trailing whitespace\n",
        "\n",
        "# First, let's create a dummy file to read from\n",
        "with open('my_file.txt', 'w') as f:\n",
        "    f.write(\"First line.\\n\")\n",
        "    f.write(\"Second line.\\n\")\n",
        "    f.write(\"Third one.\")\n",
        "\n",
        "# Now, use the generator function to read the file\n",
        "for line in read_file_line_by_line('my_file.txt'):\n",
        "    print(line)"
      ],
      "metadata": {
        "colab": {
          "base_uri": "https://localhost:8080/"
        },
        "id": "EFfRrU1g-vbp",
        "outputId": "9796b965-27b6-4ff6-f2d6-b7e5fbcddc5c"
      },
      "execution_count": 8,
      "outputs": [
        {
          "output_type": "stream",
          "name": "stdout",
          "text": [
            "First line.\n",
            "Second line.\n",
            "Third one.\n"
          ]
        }
      ]
    },
    {
      "cell_type": "code",
      "source": [
        "# 8. Use a lambda function in Python to sort a list of tuples based on the second element of each tuple.\n",
        "my_list = [(1,3),(5,7),(4,2),(8,5)] #List of tuples\n",
        "sorted_list = sorted(my_list,key = lambda x:x[1])\n",
        "print(sorted_list)"
      ],
      "metadata": {
        "colab": {
          "base_uri": "https://localhost:8080/"
        },
        "id": "iIXO_Ka6BbLt",
        "outputId": "84045dc3-0629-4bcb-953c-08d63f3b447c"
      },
      "execution_count": 10,
      "outputs": [
        {
          "output_type": "stream",
          "name": "stdout",
          "text": [
            "[(4, 2), (1, 3), (8, 5), (5, 7)]\n"
          ]
        }
      ]
    },
    {
      "cell_type": "code",
      "source": [
        "# 9. Write a Python program that uses `map()` to convert a list of temperatures from Celsius to Fahrenheit.\n",
        "# List of temperatures in Celsius\n",
        "celsius_list = [0, 20, 37, 100]\n",
        "\n",
        "# Convert to Fahrenheit using map() and lambda\n",
        "fahrenheit = list(map(lambda c: (9/5) * c + 32, celsius_list))\n",
        "\n",
        "# Print results\n",
        "print(\"Celsius:   \", celsius_list)\n",
        "print(\"Fahrenheit:\", fahrenheit)\n"
      ],
      "metadata": {
        "colab": {
          "base_uri": "https://localhost:8080/"
        },
        "id": "l0FP6XlyECTN",
        "outputId": "2ada1c38-0705-4c4c-94a7-a8742c54ede6"
      },
      "execution_count": 12,
      "outputs": [
        {
          "output_type": "stream",
          "name": "stdout",
          "text": [
            "Celsius:    [0, 20, 37, 100]\n",
            "Fahrenheit: [32.0, 68.0, 98.60000000000001, 212.0]\n"
          ]
        }
      ]
    },
    {
      "cell_type": "code",
      "source": [
        "# 10. Create a Python program that uses `filter()` to remove all the vowels from a given string.\n",
        "\n",
        "def is_not_vowel(ch): # Function to check if a character is NOT a vowel\n",
        "    vowels = \"aeiouAEIOU\"\n",
        "    return ch not in vowels\n",
        "\n",
        "text = \"Hello World, Python is Awesome!\" # Input string\n",
        "\n",
        "result = ''.join(filter(is_not_vowel, text)) # Use filter() to remove vowels\n",
        "\n",
        "# Print output\n",
        "print(\"Original String:\", text)\n",
        "print(\"Without Vowels :\", result)"
      ],
      "metadata": {
        "colab": {
          "base_uri": "https://localhost:8080/"
        },
        "id": "0Qw2OictFmbH",
        "outputId": "017e99a3-1ad8-4a93-91b3-045aa37ff40b"
      },
      "execution_count": 13,
      "outputs": [
        {
          "output_type": "stream",
          "name": "stdout",
          "text": [
            "Original String: Hello World, Python is Awesome!\n",
            "Without Vowels : Hll Wrld, Pythn s wsm!\n"
          ]
        }
      ]
    },
    {
      "cell_type": "code",
      "source": [
        "# 11. Write a Python program, which returns a list with 2-tuples. Each tuple consists of the order number and the product of the price per item and the quantity. The product should be increased by 10,- € if the value of the order is smaller than 100,00 €. Write a Python program using lambda and map.\n",
        "# List of orders: [Order Number, Book Title, Quantity, Price per Item]\n",
        "orders = [\n",
        "    [34587, \"Learning Python, Mark Lutz\", 4, 40.95],\n",
        "    [98762, \"Programming Python, Mark Lutz\", 5, 56.80],\n",
        "    [77226, \"Head First Python, Paul Barry\", 3, 32.95],\n",
        "    [88112, \"Einführung in Python3, Bernd Klein\", 3, 24.99]\n",
        "]\n",
        "\n",
        "# Use map() with lambda to compute (Order Number, Total Price)\n",
        "result = list(map(lambda x: (x[0], x[2] * x[3] if x[2] * x[3] >= 100 else x[2] * x[3] + 10), orders))\n",
        "\n",
        "# Print result\n",
        "print(result)\n"
      ],
      "metadata": {
        "colab": {
          "base_uri": "https://localhost:8080/"
        },
        "id": "W-aB8LEJGnLX",
        "outputId": "c9e06263-d0a1-46f8-df21-a2b510301db9"
      },
      "execution_count": 14,
      "outputs": [
        {
          "output_type": "stream",
          "name": "stdout",
          "text": [
            "[(34587, 163.8), (98762, 284.0), (77226, 108.85000000000001), (88112, 84.97)]\n"
          ]
        }
      ]
    }
  ],
  "metadata": {
    "colab": {
      "provenance": []
    },
    "kernelspec": {
      "display_name": "Python 3",
      "name": "python3"
    },
    "language_info": {
      "name": "python"
    }
  },
  "nbformat": 4,
  "nbformat_minor": 0
}